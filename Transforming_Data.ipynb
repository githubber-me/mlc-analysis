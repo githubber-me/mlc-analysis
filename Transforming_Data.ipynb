{
  "nbformat": 4,
  "nbformat_minor": 0,
  "metadata": {
    "colab": {
      "provenance": []
    },
    "kernelspec": {
      "name": "python3",
      "display_name": "Python 3"
    },
    "language_info": {
      "name": "python"
    }
  },
  "cells": [
    {
      "cell_type": "markdown",
      "source": [
        "# ***Major League Cricket Data Analysis***\n",
        "### by [***Anthahkarana***](https://anthahkarana.tech)"
      ],
      "metadata": {
        "id": "UzOCE9GJSB2f"
      }
    },
    {
      "cell_type": "markdown",
      "source": [
        "### **TRANSFORMING AND OBTAINING DATA**\n",
        "\n",
        "The sources for this project are\n",
        "1. CricSheet MLC Database\n",
        "2. CricSheet People Database (Comprehensive Database with all the stakeholders - including players, referees and umpires - of a cricket match)\n",
        "3. ESPNCricinfo"
      ],
      "metadata": {
        "id": "NK1fefCwRare"
      }
    },
    {
      "cell_type": "code",
      "execution_count": 1,
      "metadata": {
        "id": "aFQHVcifMw57"
      },
      "outputs": [],
      "source": [
        "folder_path='/content/mlc_json'"
      ]
    },
    {
      "cell_type": "markdown",
      "source": [
        "FIRST STEP IS TO GET COMPREHENSIVE INFORMATION ABOUT ALL THE PARTICIPATING PLAYERS IN THE MLC. IN THE BELOW CODE, I TRY TO GET BASIC INFORMATION ABOUT THE PLAYERS FROM CRICINFO."
      ],
      "metadata": {
        "id": "JGCCfoX5NgEm"
      }
    },
    {
      "cell_type": "code",
      "source": [
        "import requests\n",
        "from bs4 import BeautifulSoup\n",
        "\n",
        "def get_player_details(player_id):\n",
        "    \"\"\"\n",
        "    Fetches the details of a player from ESPN Cricinfo using the player ID.\n",
        "\n",
        "    Parameters:\n",
        "    player_id (str): The ESPN Cricinfo player ID.\n",
        "\n",
        "    Returns:\n",
        "    dict: A dictionary containing player details like Full Name, Born, Age, Batting Style, Bowling Style, and Playing Role.\n",
        "    \"\"\"\n",
        "\n",
        "    # Construct the URL dynamically using the player ID\n",
        "    url = f\"https://www.espncricinfo.com/cricketers/player-name-{player_id}\"\n",
        "\n",
        "    # Send a GET request to fetch the page content\n",
        "    response = requests.get(url)\n",
        "\n",
        "    # Check if the request was successful\n",
        "    if response.status_code != 200:\n",
        "        print(f\"Failed to retrieve data for player ID {player_id}. Status code: {response.status_code}\")\n",
        "        return None\n",
        "\n",
        "    # Parse the page content using BeautifulSoup\n",
        "    soup = BeautifulSoup(response.text, 'html.parser')\n",
        "\n",
        "    # Extracting the details\n",
        "    player_details = {}\n",
        "\n",
        "    # Full Name\n",
        "    full_name = soup.find('p', class_='ds-text-tight-m ds-font-regular ds-uppercase ds-text-typo-mid3', string='Full Name')\n",
        "    if full_name:\n",
        "        full_name_value = full_name.find_next('span').find('p').text.strip()\n",
        "        player_details['Full Name'] = full_name_value\n",
        "\n",
        "    # Born\n",
        "    born = soup.find('p', class_='ds-text-tight-m ds-font-regular ds-uppercase ds-text-typo-mid3', string='Born')\n",
        "    if born:\n",
        "        born_value = born.find_next('span').find('p').text.strip()\n",
        "        player_details['Born'] = born_value\n",
        "\n",
        "    # Age\n",
        "    age = soup.find('p', class_='ds-text-tight-m ds-font-regular ds-uppercase ds-text-typo-mid3', string='Age')\n",
        "    if age:\n",
        "        age_value = age.find_next('span').find('p').text.strip()\n",
        "        player_details['Age'] = age_value\n",
        "\n",
        "    # Batting Style\n",
        "    batting_style = soup.find('p', class_='ds-text-tight-m ds-font-regular ds-uppercase ds-text-typo-mid3', string='Batting Style')\n",
        "    if batting_style:\n",
        "        batting_style_value = batting_style.find_next('span').find('p').text.strip()\n",
        "        player_details['Batting Style'] = batting_style_value\n",
        "\n",
        "    # Bowling Style\n",
        "    bowling_style = soup.find('p', class_='ds-text-tight-m ds-font-regular ds-uppercase ds-text-typo-mid3', string='Bowling Style')\n",
        "    if bowling_style:\n",
        "        bowling_style_value = bowling_style.find_next('span').find('p').text.strip()\n",
        "        player_details['Bowling Style'] = bowling_style_value\n",
        "\n",
        "    # Playing Role\n",
        "    playing_role = soup.find('p', class_='ds-text-tight-m ds-font-regular ds-uppercase ds-text-typo-mid3', string='Playing Role')\n",
        "    if playing_role:\n",
        "        playing_role_value = playing_role.find_next('span').find('p').text.strip()\n",
        "        player_details['Playing Role'] = playing_role_value\n",
        "\n",
        "    # Return the player details as a dictionary\n",
        "    return player_details\n",
        "\n",
        "\n",
        "# Example usage: Pass a player ID and get the details\n",
        "player_id = input(\"Enter the player ID \")\n",
        "player_info = get_player_details(player_id)\n",
        "\n",
        "# Print the details\n",
        "if player_info:\n",
        "    print(\"\\nPlayer Details:\")\n",
        "    for key, value in player_info.items():\n",
        "        print(f\"{key}: {value}\")\n",
        "else:\n",
        "    print(\"No player details found. Please check the player ID.\")\n"
      ],
      "metadata": {
        "colab": {
          "base_uri": "https://localhost:8080/"
        },
        "id": "Lhz9zXS7M8DB",
        "outputId": "c2a0044c-1018-444e-de92-cdb0a4258d9b"
      },
      "execution_count": 2,
      "outputs": [
        {
          "output_type": "stream",
          "name": "stdout",
          "text": [
            "Enter the player ID 277916\n",
            "\n",
            "Player Details:\n",
            "Full Name: Ajinkya Madhukar Rahane\n",
            "Born: June 06, 1988, Ashwi-KD, Maharashtra\n",
            "Age: 36y 184d\n",
            "Batting Style: Right hand Bat\n",
            "Bowling Style: Right arm Medium\n",
            "Playing Role: Top order Batter\n"
          ]
        }
      ]
    },
    {
      "cell_type": "markdown",
      "source": [
        "GETTING THIS DATA INVOLVED LOOKING INTO THE SOURCE CODE OF ESPN CRICINFO WEB PAGE AND SCRAPING CLASSES FROM THERE. HENCE YOU CAN SEE SOME TECHNICAL WORDS IN THE CLASS NAMES. THERE IS A LIBRARY NAMED 'python-espncricinfo' WHICH DOES THIS, BUT THAT DIDN'T WORK FOR ME, HENCE HAD TO USE THIS MANUAL APPROACH."
      ],
      "metadata": {
        "id": "vcpEdLKNN29d"
      }
    },
    {
      "cell_type": "markdown",
      "source": [
        "Now that we have defined the function **get_player_details**, the next step is to match it with the cricsheet 'MLC match JSON files' and their large dataset of players (**people.csv**). This is done using pandas and I have created a new csv file named **comprehensive.csv** in order to store this data."
      ],
      "metadata": {
        "id": "EDlFEw94OTEe"
      }
    },
    {
      "cell_type": "markdown",
      "source": [
        "This will take quite some time to run (2 minutes for me) since it has to run through ample amount of data to generate this new file."
      ],
      "metadata": {
        "id": "eD0vDdTTPfJJ"
      }
    },
    {
      "cell_type": "code",
      "source": [
        "import pandas as pd\n",
        "import glob\n",
        "import os\n",
        "import json\n",
        "\n",
        "# Load the people.csv file\n",
        "people_df = pd.read_csv('/content/people.csv')\n",
        "\n",
        "all_files = glob.glob(os.path.join(folder_path, \"*.json\"))\n",
        "\n",
        "identifiers_from_json = set()\n",
        "\n",
        "for file in all_files:\n",
        "    with open(file, 'r') as f:\n",
        "        match_data = json.load(f)\n",
        "\n",
        "    # Accessing players and registry from 'info'\n",
        "    players_data = match_data.get('info', {}).get('players', {})\n",
        "    registry_data = match_data.get('info', {}).get('registry', {}).get('people', {})\n",
        "\n",
        "    # Get identifiers from players_data\n",
        "    for team_players in players_data.values():\n",
        "        for player_name in team_players:\n",
        "            # Find identifier in registry_data using player name as key\n",
        "            identifier = registry_data.get(player_name)\n",
        "            if identifier:\n",
        "                identifiers_from_json.add(identifier)\n",
        "\n",
        "# Match identifiers with people.csv and get playing styles\n",
        "comprehensive_data = []\n",
        "for identifier in identifiers_from_json:\n",
        "    matching_row = people_df[people_df['identifier'] == identifier]\n",
        "    if not matching_row.empty:\n",
        "        cricinfo_id = matching_row['key_cricinfo'].iloc[0]\n",
        "        player_details = get_player_details(cricinfo_id)\n",
        "        if player_details:\n",
        "            comprehensive_data.append({\n",
        "                'identifier': identifier,\n",
        "                'key_cricinfo': cricinfo_id,\n",
        "                **player_details\n",
        "            })\n",
        "\n",
        "# Create and save the comprehensive.csv file\n",
        "comprehensive_df = pd.DataFrame(comprehensive_data)\n",
        "comprehensive_df.to_csv('comprehensive.csv', index=False)"
      ],
      "metadata": {
        "id": "DO1zHyJUO29S"
      },
      "execution_count": 5,
      "outputs": []
    },
    {
      "cell_type": "markdown",
      "source": [
        "Now, I aim to divide the bowlers to two broad categories, namely 'pace' and 'spin' in order to perform analytics better. The following code does that. (There is a none category as well which acts as a fallback)"
      ],
      "metadata": {
        "id": "cr3GLaE3P2Ic"
      }
    },
    {
      "cell_type": "code",
      "source": [
        "import pandas as pd\n",
        "\n",
        "# Read the CSV file\n",
        "comprehensive_df = pd.read_csv('comprehensive.csv')\n",
        "\n",
        "# Specify the field name\n",
        "field_name = 'Bowling Style'\n",
        "\n",
        "# Get unique entries\n",
        "unique_entries = comprehensive_df[field_name].unique()\n",
        "\n",
        "# Print the unique entries\n",
        "print(f\"Unique entries in '{field_name}':\")\n",
        "for entry in unique_entries:\n",
        "    print(entry)"
      ],
      "metadata": {
        "colab": {
          "base_uri": "https://localhost:8080/"
        },
        "id": "-oc62tuxPzrX",
        "outputId": "52f64d7d-79ef-46bd-e5d6-f407532adb9a"
      },
      "execution_count": 6,
      "outputs": [
        {
          "output_type": "stream",
          "name": "stdout",
          "text": [
            "Unique entries in 'Bowling Style':\n",
            "Legbreak\n",
            "Right arm Fast\n",
            "Right arm Offbreak\n",
            "Slow Left arm Orthodox\n",
            "Left arm Medium fast\n",
            "nan\n",
            "Right arm Fast medium\n",
            "Left arm Fast medium\n",
            "Right arm Medium fast\n",
            "Legbreak Googly\n",
            "Right arm Medium\n",
            "Left arm Wrist spin\n",
            "Left arm Fast\n"
          ]
        }
      ]
    },
    {
      "cell_type": "markdown",
      "source": [
        "Now that I've gotten all the unique entries of the bowling style, I can divide them easily."
      ],
      "metadata": {
        "id": "W_USEFAYQRpV"
      }
    },
    {
      "cell_type": "code",
      "source": [
        "import pandas as pd\n",
        "\n",
        "def categorize_bowling_type(bowling_style):\n",
        "    if pd.isnull(bowling_style):\n",
        "        return 'none'\n",
        "    elif bowling_style in ['Slow Left arm Orthodox', 'Right arm Offbreak', 'Legbreak Googly', 'Legbreak', 'Left arm Wrist spin']:\n",
        "        return 'spin'\n",
        "    elif bowling_style in ['Left arm Medium fast', 'Left arm Fast medium', 'Right arm Medium fast', 'Right arm Medium', 'Right arm Fast medium', 'Right arm Fast', 'Left arm Fast']:\n",
        "        return 'fast'\n",
        "    else:\n",
        "        return 'none'  # Handle cases not specified in my conditions\n",
        "\n",
        "comprehensive_df['Bowling Type'] = comprehensive_df['Bowling Style'].apply(categorize_bowling_type)"
      ],
      "metadata": {
        "id": "UrXRhy5sQWKU"
      },
      "execution_count": 10,
      "outputs": []
    },
    {
      "cell_type": "markdown",
      "source": [
        "I have successfully added it to the pandas dataframe, now in order to make the changes visible in the csv file, running the following command."
      ],
      "metadata": {
        "id": "8BwI-goyQdTM"
      }
    },
    {
      "cell_type": "code",
      "source": [
        "comprehensive_df.to_csv('comprehensive.csv', index=False)"
      ],
      "metadata": {
        "id": "Pfjk_xXaQbpS"
      },
      "execution_count": 9,
      "outputs": []
    },
    {
      "cell_type": "markdown",
      "source": [
        "Data Transformation is done for now. Moving on to performing analysis in the next notebook file.."
      ],
      "metadata": {
        "id": "rt8Y472YQ3WO"
      }
    },
    {
      "cell_type": "code",
      "source": [],
      "metadata": {
        "id": "cVxNQZ0HRIZb"
      },
      "execution_count": null,
      "outputs": []
    }
  ]
}